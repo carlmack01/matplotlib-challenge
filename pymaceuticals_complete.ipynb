{
 "cells": [
  {
   "cell_type": "markdown",
   "metadata": {},
   "source": [
    "## Observations and Insights "
   ]
  },
  {
   "cell_type": "markdown",
   "metadata": {},
   "source": []
  },
  {
   "cell_type": "code",
   "execution_count": null,
   "metadata": {},
   "outputs": [],
   "source": [
    "#Observations:\n",
    "\n",
    "# #The first observation is that the first two treatments, Capomulin and Ramicane, \n",
    "# had the most number of datapoints compared to the rest of the medications.  This, in \n",
    "# turn, means that they had the highest number of observations that lived to at least the\n",
    "# age of 45 days, and therefore can be seen to be more effective than other treatments.\n",
    "\n",
    "# The second observation is that Infubinol and Ceftamin had much larger inter quartile ranges\n",
    "# than did Capomulin or Ramicane, meaning that there was much more variance in the values\n",
    "# of these treatments than the two mentioned in point one above.  This may mean that the results\n",
    "# of these treatments can be a lot more unpredicatable.\n",
    "\n",
    "# The final observation is that for the Capomulin regimen, with an r-squared of roughly 0.27, \n",
    "# there is a clear positive relationship between rat weight and tumor volume.  This could be\n",
    "# because of the treatment, because of the natural relationship between the way rats grow (ie\n",
    "# that as a rat grows it naturally increases in all aspects of size, including tumor volume), \n",
    "# or there could be some extranious, ommited variable that is accounts for the relationship. \n",
    "# Correlation does not imply causation, and further testing would be required to get at the \n",
    "# nature of causality.  We can say, however, that there is a positive relationship between these\n",
    "# two variables.\n",
    "                                                                                        "
   ]
  },
  {
   "cell_type": "code",
   "execution_count": 88,
   "metadata": {},
   "outputs": [
    {
     "data": {
      "text/html": [
       "<div>\n",
       "<style scoped>\n",
       "    .dataframe tbody tr th:only-of-type {\n",
       "        vertical-align: middle;\n",
       "    }\n",
       "\n",
       "    .dataframe tbody tr th {\n",
       "        vertical-align: top;\n",
       "    }\n",
       "\n",
       "    .dataframe thead th {\n",
       "        text-align: right;\n",
       "    }\n",
       "</style>\n",
       "<table border=\"1\" class=\"dataframe\">\n",
       "  <thead>\n",
       "    <tr style=\"text-align: right;\">\n",
       "      <th></th>\n",
       "      <th>Mouse ID</th>\n",
       "      <th>Drug Regimen</th>\n",
       "      <th>Sex</th>\n",
       "      <th>Age_months</th>\n",
       "      <th>Weight (g)</th>\n",
       "      <th>Timepoint</th>\n",
       "      <th>Tumor Volume (mm3)</th>\n",
       "      <th>Metastatic Sites</th>\n",
       "    </tr>\n",
       "  </thead>\n",
       "  <tbody>\n",
       "    <tr>\n",
       "      <th>0</th>\n",
       "      <td>k403</td>\n",
       "      <td>Ramicane</td>\n",
       "      <td>Male</td>\n",
       "      <td>21</td>\n",
       "      <td>16</td>\n",
       "      <td>0</td>\n",
       "      <td>45.000000</td>\n",
       "      <td>0</td>\n",
       "    </tr>\n",
       "    <tr>\n",
       "      <th>1</th>\n",
       "      <td>k403</td>\n",
       "      <td>Ramicane</td>\n",
       "      <td>Male</td>\n",
       "      <td>21</td>\n",
       "      <td>16</td>\n",
       "      <td>5</td>\n",
       "      <td>38.825898</td>\n",
       "      <td>0</td>\n",
       "    </tr>\n",
       "    <tr>\n",
       "      <th>2</th>\n",
       "      <td>k403</td>\n",
       "      <td>Ramicane</td>\n",
       "      <td>Male</td>\n",
       "      <td>21</td>\n",
       "      <td>16</td>\n",
       "      <td>10</td>\n",
       "      <td>35.014271</td>\n",
       "      <td>1</td>\n",
       "    </tr>\n",
       "    <tr>\n",
       "      <th>3</th>\n",
       "      <td>k403</td>\n",
       "      <td>Ramicane</td>\n",
       "      <td>Male</td>\n",
       "      <td>21</td>\n",
       "      <td>16</td>\n",
       "      <td>15</td>\n",
       "      <td>34.223992</td>\n",
       "      <td>1</td>\n",
       "    </tr>\n",
       "    <tr>\n",
       "      <th>4</th>\n",
       "      <td>k403</td>\n",
       "      <td>Ramicane</td>\n",
       "      <td>Male</td>\n",
       "      <td>21</td>\n",
       "      <td>16</td>\n",
       "      <td>20</td>\n",
       "      <td>32.997729</td>\n",
       "      <td>1</td>\n",
       "    </tr>\n",
       "    <tr>\n",
       "      <th>...</th>\n",
       "      <td>...</td>\n",
       "      <td>...</td>\n",
       "      <td>...</td>\n",
       "      <td>...</td>\n",
       "      <td>...</td>\n",
       "      <td>...</td>\n",
       "      <td>...</td>\n",
       "      <td>...</td>\n",
       "    </tr>\n",
       "    <tr>\n",
       "      <th>1888</th>\n",
       "      <td>z969</td>\n",
       "      <td>Naftisol</td>\n",
       "      <td>Male</td>\n",
       "      <td>9</td>\n",
       "      <td>30</td>\n",
       "      <td>25</td>\n",
       "      <td>63.145652</td>\n",
       "      <td>2</td>\n",
       "    </tr>\n",
       "    <tr>\n",
       "      <th>1889</th>\n",
       "      <td>z969</td>\n",
       "      <td>Naftisol</td>\n",
       "      <td>Male</td>\n",
       "      <td>9</td>\n",
       "      <td>30</td>\n",
       "      <td>30</td>\n",
       "      <td>65.841013</td>\n",
       "      <td>3</td>\n",
       "    </tr>\n",
       "    <tr>\n",
       "      <th>1890</th>\n",
       "      <td>z969</td>\n",
       "      <td>Naftisol</td>\n",
       "      <td>Male</td>\n",
       "      <td>9</td>\n",
       "      <td>30</td>\n",
       "      <td>35</td>\n",
       "      <td>69.176246</td>\n",
       "      <td>4</td>\n",
       "    </tr>\n",
       "    <tr>\n",
       "      <th>1891</th>\n",
       "      <td>z969</td>\n",
       "      <td>Naftisol</td>\n",
       "      <td>Male</td>\n",
       "      <td>9</td>\n",
       "      <td>30</td>\n",
       "      <td>40</td>\n",
       "      <td>70.314904</td>\n",
       "      <td>4</td>\n",
       "    </tr>\n",
       "    <tr>\n",
       "      <th>1892</th>\n",
       "      <td>z969</td>\n",
       "      <td>Naftisol</td>\n",
       "      <td>Male</td>\n",
       "      <td>9</td>\n",
       "      <td>30</td>\n",
       "      <td>45</td>\n",
       "      <td>73.867845</td>\n",
       "      <td>4</td>\n",
       "    </tr>\n",
       "  </tbody>\n",
       "</table>\n",
       "<p>1893 rows × 8 columns</p>\n",
       "</div>"
      ],
      "text/plain": [
       "     Mouse ID Drug Regimen   Sex  Age_months  Weight (g)  Timepoint  \\\n",
       "0        k403     Ramicane  Male          21          16          0   \n",
       "1        k403     Ramicane  Male          21          16          5   \n",
       "2        k403     Ramicane  Male          21          16         10   \n",
       "3        k403     Ramicane  Male          21          16         15   \n",
       "4        k403     Ramicane  Male          21          16         20   \n",
       "...       ...          ...   ...         ...         ...        ...   \n",
       "1888     z969     Naftisol  Male           9          30         25   \n",
       "1889     z969     Naftisol  Male           9          30         30   \n",
       "1890     z969     Naftisol  Male           9          30         35   \n",
       "1891     z969     Naftisol  Male           9          30         40   \n",
       "1892     z969     Naftisol  Male           9          30         45   \n",
       "\n",
       "      Tumor Volume (mm3)  Metastatic Sites  \n",
       "0              45.000000                 0  \n",
       "1              38.825898                 0  \n",
       "2              35.014271                 1  \n",
       "3              34.223992                 1  \n",
       "4              32.997729                 1  \n",
       "...                  ...               ...  \n",
       "1888           63.145652                 2  \n",
       "1889           65.841013                 3  \n",
       "1890           69.176246                 4  \n",
       "1891           70.314904                 4  \n",
       "1892           73.867845                 4  \n",
       "\n",
       "[1893 rows x 8 columns]"
      ]
     },
     "execution_count": 88,
     "metadata": {},
     "output_type": "execute_result"
    }
   ],
   "source": [
    "# Dependencies and Setup\n",
    "import matplotlib.pyplot as plt\n",
    "import pandas as pd\n",
    "import scipy.stats as st\n",
    "import numpy as np\n",
    "from scipy.stats import linregress\n",
    "\n",
    "# Study data files\n",
    "mouse_metadata_path = \"data/Mouse_metadata.csv\"\n",
    "study_results_path = \"data/Study_results.csv\"\n",
    "\n",
    "# Read the mouse data and the study results\n",
    "mouse_metadata = pd.read_csv(mouse_metadata_path)\n",
    "study_results = pd.read_csv(study_results_path)\n",
    "\n",
    "# Combine the data into a single dataset\n",
    "merge_df = pd.merge(mouse_metadata, study_results, on=\"Mouse ID\", how=\"left\")\n",
    "merge_df"
   ]
  },
  {
   "cell_type": "code",
   "execution_count": 89,
   "metadata": {},
   "outputs": [
    {
     "name": "stdout",
     "output_type": "stream",
     "text": [
      "249\n"
     ]
    }
   ],
   "source": [
    "# Checking the number of mice in the DataFrame.\n",
    "unique_value = merge_df[\"Mouse ID\"].nunique() \n",
    "  \n",
    "# printing value \n",
    "print(unique_value)"
   ]
  },
  {
   "cell_type": "code",
   "execution_count": 90,
   "metadata": {},
   "outputs": [
    {
     "name": "stdout",
     "output_type": "stream",
     "text": [
      "Duplicate Rows except first occurrence based on all columns are :\n",
      "    Mouse ID Drug Regimen     Sex  Age_months  Weight (g)  Timepoint  \\\n",
      "909     g989     Propriva  Female          21          26          0   \n",
      "\n",
      "     Tumor Volume (mm3)  Metastatic Sites  \n",
      "909                45.0                 0  \n"
     ]
    }
   ],
   "source": [
    "# Getting the duplicate mice by ID number that shows up for Mouse ID and Timepoint. \n",
    "duplicateRowsDF = merge_df[merge_df.duplicated()]\n",
    " \n",
    "print(\"Duplicate Rows except first occurrence based on all columns are :\")\n",
    "print(duplicateRowsDF)"
   ]
  },
  {
   "cell_type": "code",
   "execution_count": 57,
   "metadata": {},
   "outputs": [
    {
     "name": "stdout",
     "output_type": "stream",
     "text": [
      "Duplicate Rows except first occurrence based on all columns are :\n",
      "    Mouse ID Drug Regimen     Sex  Age_months  Weight (g)  Timepoint  \\\n",
      "909     g989     Propriva  Female          21          26          0   \n",
      "\n",
      "     Tumor Volume (mm3)  Metastatic Sites  \n",
      "909                45.0                 0  \n"
     ]
    }
   ],
   "source": [
    "# Optional: Get all the data for the duplicate mouse ID. \n",
    "print(\"Duplicate Rows except first occurrence based on all columns are :\")\n",
    "print(duplicateRowsDF)"
   ]
  },
  {
   "cell_type": "code",
   "execution_count": 91,
   "metadata": {},
   "outputs": [
    {
     "name": "stdout",
     "output_type": "stream",
     "text": [
      "     Mouse ID Drug Regimen   Sex  Age_months  Weight (g)  Timepoint  \\\n",
      "0        k403     Ramicane  Male          21          16          0   \n",
      "1        k403     Ramicane  Male          21          16          5   \n",
      "2        k403     Ramicane  Male          21          16         10   \n",
      "3        k403     Ramicane  Male          21          16         15   \n",
      "4        k403     Ramicane  Male          21          16         20   \n",
      "...       ...          ...   ...         ...         ...        ...   \n",
      "1888     z969     Naftisol  Male           9          30         25   \n",
      "1889     z969     Naftisol  Male           9          30         30   \n",
      "1890     z969     Naftisol  Male           9          30         35   \n",
      "1891     z969     Naftisol  Male           9          30         40   \n",
      "1892     z969     Naftisol  Male           9          30         45   \n",
      "\n",
      "      Tumor Volume (mm3)  Metastatic Sites  \n",
      "0              45.000000                 0  \n",
      "1              38.825898                 0  \n",
      "2              35.014271                 1  \n",
      "3              34.223992                 1  \n",
      "4              32.997729                 1  \n",
      "...                  ...               ...  \n",
      "1888           63.145652                 2  \n",
      "1889           65.841013                 3  \n",
      "1890           69.176246                 4  \n",
      "1891           70.314904                 4  \n",
      "1892           73.867845                 4  \n",
      "\n",
      "[1880 rows x 8 columns]\n"
     ]
    }
   ],
   "source": [
    "# Create a clean DataFrame by dropping the duplicate mouse by its ID.\n",
    "clean = merge_df.loc[merge_df[\"Mouse ID\"] != \"g989\", :]\n",
    "print(clean)"
   ]
  },
  {
   "cell_type": "code",
   "execution_count": 92,
   "metadata": {},
   "outputs": [
    {
     "name": "stdout",
     "output_type": "stream",
     "text": [
      "248\n"
     ]
    }
   ],
   "source": [
    "# Checking the number of mice in the clean DataFrame.\n",
    "unique_value = clean[\"Mouse ID\"].nunique() \n",
    "  \n",
    "# printing value \n",
    "print(unique_value)"
   ]
  },
  {
   "cell_type": "markdown",
   "metadata": {},
   "source": [
    "## Summary Statistics"
   ]
  },
  {
   "cell_type": "code",
   "execution_count": 93,
   "metadata": {},
   "outputs": [],
   "source": [
    "cap_tumvol = clean.loc[clean[\"Drug Regimen\"] == \"Capomulin\", :]\n",
    "ram_tumvol = clean.loc[clean[\"Drug Regimen\"] == \"Ramicane\", :]\n",
    "ket_tumvol = clean.loc[clean[\"Drug Regimen\"] == \"Ketapril\", :]\n",
    "naf_tumvol = clean.loc[clean[\"Drug Regimen\"] == \"Naftisol\", :]\n",
    "zon_tumvol = clean.loc[clean[\"Drug Regimen\"] == \"Zoniferol\", :]\n",
    "pla_tumvol = clean.loc[clean[\"Drug Regimen\"] == \"Placebo\", :]\n",
    "ste_tumvol = clean.loc[clean[\"Drug Regimen\"] == \"Stelasyn\", :]\n",
    "cef_tumvol = clean.loc[clean[\"Drug Regimen\"] == \"Ceftamin\", :]\n",
    "inf_tumvol = clean.loc[clean[\"Drug Regimen\"] == \"Infubinol\", :]\n",
    "pro_tumvol = clean.loc[clean[\"Drug Regimen\"] == \"Propriva\", :]"
   ]
  },
  {
   "cell_type": "code",
   "execution_count": 94,
   "metadata": {},
   "outputs": [
    {
     "name": "stdout",
     "output_type": "stream",
     "text": [
      "  Medication       Mean     Median   Variance  Standard Deviation\n",
      "0  Capomulin  40.675741  41.557809  24.839296            4.983904\n",
      "1   Ramicane  40.216745  40.673236  23.383692            4.835669\n",
      "2   Ketapril  55.235638  53.698743  68.188930            8.257659\n",
      "3   Naftisol  54.331565  52.509285  65.817708            8.112811\n",
      "4  Zoniferol  53.236507  51.818479  48.266689            6.947423\n",
      "5    Placebo  54.033581  52.288934  60.830138            7.799368\n",
      "6   Stelasyn  54.233149  52.431737  59.122106            7.689090\n",
      "7   Ceftamin  52.591172  51.776157  39.069446            6.250556\n",
      "8  Infubinol  52.884795  51.820584  42.886388            6.548770\n",
      "9   Propriva  52.320930  50.446266  43.555716            6.599675\n"
     ]
    }
   ],
   "source": [
    "# Generate a summary statistics table of mean, median, variance, standard deviation, and\n",
    "#SEM of the tumor volume for each regimen\n",
    "\n",
    "# This method is the most straightforward, creating multiple series and putting them \n",
    "#all together at the end.\n",
    "\n",
    "cap_tv = cap_tumvol[\"Tumor Volume (mm3)\"]\n",
    "cap_mean = np.mean(cap_tv)\n",
    "cap_median = np.median(cap_tv)\n",
    "cap_var = np.var(cap_tv,ddof = 0)\n",
    "cap_sd = np.std(cap_tv,ddof = 0)\n",
    "\n",
    "ram_tv = ram_tumvol[\"Tumor Volume (mm3)\"]\n",
    "ram_mean = np.mean(ram_tv)\n",
    "ram_median = np.median(ram_tv)\n",
    "ram_var = np.var(ram_tv,ddof = 0)\n",
    "ram_sd = np.std(ram_tv,ddof = 0)\n",
    "\n",
    "ket_tv = ket_tumvol[\"Tumor Volume (mm3)\"]\n",
    "ket_mean = np.mean(ket_tv)\n",
    "ket_median = np.median(ket_tv)\n",
    "ket_var = np.var(ket_tv,ddof = 0)\n",
    "ket_sd = np.std(ket_tv,ddof = 0)\n",
    "\n",
    "naf_tv = naf_tumvol[\"Tumor Volume (mm3)\"]\n",
    "naf_mean = np.mean(naf_tv)\n",
    "naf_median = np.median(naf_tv)\n",
    "naf_var = np.var(naf_tv,ddof = 0)\n",
    "naf_sd = np.std(naf_tv,ddof = 0)\n",
    "       \n",
    "zon_tv = zon_tumvol[\"Tumor Volume (mm3)\"]\n",
    "zon_mean = np.mean(zon_tv)\n",
    "zon_median = np.median(zon_tv)\n",
    "zon_var = np.var(zon_tv,ddof = 0)\n",
    "zon_sd = np.std(zon_tv,ddof = 0)\n",
    "\n",
    "pla_tv = pla_tumvol[\"Tumor Volume (mm3)\"]\n",
    "pla_mean = np.mean(pla_tv)\n",
    "pla_median = np.median(pla_tv)\n",
    "pla_var = np.var(pla_tv,ddof = 0)\n",
    "pla_sd = np.std(pla_tv,ddof = 0)\n",
    "\n",
    "ste_tv = ste_tumvol[\"Tumor Volume (mm3)\"]\n",
    "ste_mean = np.mean(ste_tv)\n",
    "ste_median = np.median(ste_tv)\n",
    "ste_var = np.var(ste_tv,ddof = 0)\n",
    "ste_sd = np.std(ste_tv,ddof = 0)\n",
    "\n",
    "cef_tv = cef_tumvol[\"Tumor Volume (mm3)\"]\n",
    "cef_mean = np.mean(cef_tv)\n",
    "cef_median = np.median(cef_tv)\n",
    "cef_var = np.var(cef_tv,ddof = 0)\n",
    "cef_sd = np.std(cef_tv,ddof = 0)\n",
    "\n",
    "inf_tv = inf_tumvol[\"Tumor Volume (mm3)\"]\n",
    "inf_mean = np.mean(inf_tv)\n",
    "inf_median = np.median(inf_tv)\n",
    "inf_var = np.var(inf_tv,ddof = 0)\n",
    "inf_sd = np.std(inf_tv,ddof = 0)\n",
    "\n",
    "pro_tv = pro_tumvol[\"Tumor Volume (mm3)\"]\n",
    "pro_mean = np.mean(pro_tv)\n",
    "pro_median = np.median(pro_tv)\n",
    "pro_var = np.var(pro_tv,ddof = 0)\n",
    "pro_sd = np.std(pro_tv,ddof = 0)\n",
    "\n",
    "stats = {\n",
    "        'Medication': ['Capomulin', 'Ramicane', 'Ketapril', 'Naftisol', 'Zoniferol', 'Placebo', 'Stelasyn', 'Ceftamin', 'Infubinol', 'Propriva'],\n",
    "        'Mean': [cap_mean, ram_mean, ket_mean, naf_mean, zon_mean, pla_mean, ste_mean, cef_mean, inf_mean, pro_mean],\n",
    "        'Median': [cap_median, ram_median, ket_median, naf_median, zon_median, pla_median, ste_median, cef_median, inf_median, pro_median],\n",
    "        'Variance': [cap_var, ram_var, ket_var, naf_var, zon_var, pla_var, ste_var, cef_var, inf_var, pro_var],\n",
    "        'Standard Deviation': [cap_sd, ram_sd, ket_sd, naf_sd, zon_sd, pla_sd, ste_sd, cef_sd, inf_sd, pro_sd]\n",
    "        }\n",
    "df = pd.DataFrame(stats, columns = ['Medication', 'Mean', 'Median', 'Variance', 'Standard Deviation'])\n",
    "\n",
    "print(df)"
   ]
  },
  {
   "cell_type": "code",
   "execution_count": 95,
   "metadata": {
    "scrolled": true
   },
   "outputs": [
    {
     "name": "stdout",
     "output_type": "stream",
     "text": [
      "                   Mean     Median   Variance  Standard Deviation\n",
      "Drug Regimen                                                     \n",
      "Capomulin     40.675741  41.557809  24.947764            4.994774\n",
      "Ceftamin      52.591172  51.776157  39.290177            6.268188\n",
      "Infubinol     52.884795  51.820584  43.128684            6.567243\n",
      "Ketapril      55.235638  53.698743  68.553577            8.279709\n",
      "Naftisol      54.331565  52.509285  66.173479            8.134708\n",
      "Placebo       54.033581  52.288934  61.168083            7.821003\n",
      "Propriva      52.320930  50.446266  43.852013            6.622085\n",
      "Ramicane      40.216745  40.673236  23.486704            4.846308\n",
      "Stelasyn      54.233149  52.431737  59.450562            7.710419\n",
      "Zoniferol     53.236507  51.818479  48.533355            6.966589\n"
     ]
    }
   ],
   "source": [
    "# Generate a summary statistics table of mean, median, variance, standard deviation, and \n",
    "#SEM of the tumor volume for each regimen\n",
    "grouped_treatment = clean.groupby(['Drug Regimen'])\n",
    "# This method produces everything in a single groupby function.\n",
    "groupedmean = grouped_treatment[\"Tumor Volume (mm3)\"].mean()\n",
    "groupedmedian = grouped_treatment[\"Tumor Volume (mm3)\"].median()\n",
    "groupedvar = grouped_treatment[\"Tumor Volume (mm3)\"].var()\n",
    "groupedstd = grouped_treatment[\"Tumor Volume (mm3)\"].std()\n",
    "stats2 = {\n",
    "        'Mean': groupedmean,\n",
    "        'Median': groupedmedian,\n",
    "        'Variance': groupedvar, \n",
    "        'Standard Deviation': groupedstd\n",
    "        }\n",
    "df2 = pd.DataFrame(stats2, columns = ['Mean', 'Median', 'Variance', 'Standard Deviation'])\n",
    "\n",
    "print(df2)"
   ]
  },
  {
   "cell_type": "markdown",
   "metadata": {},
   "source": [
    "## Bar Plots"
   ]
  },
  {
   "cell_type": "code",
   "execution_count": 96,
   "metadata": {},
   "outputs": [
    {
     "data": {
      "text/plain": [
       "Text(0.5, 0, 'Drug Regimen')"
      ]
     },
     "execution_count": 96,
     "metadata": {},
     "output_type": "execute_result"
    },
    {
     "data": {
      "image/png": "[encoded data removed]",
      "text/plain": [
       "<Figure size 432x288 with 1 Axes>"
      ]
     },
     "metadata": {
      "needs_background": "light"
     },
     "output_type": "display_data"
    }
   ],
   "source": [
    "# Generate a bar plot showing the number of mice per time point for each treatment \n",
    "#throughout the course of the study using pandas.\n",
    "mousenum = clean[\"Drug Regimen\"].value_counts()\n",
    "# Configure plot and ticks\n",
    "mousenum.plot(kind=\"bar\", facecolor=\"blue\")\n",
    "#plt.title(\"The Bloodthirst of Kings\")\n",
    "plt.ylabel(\"Number of Data Points\")\n",
    "plt.xlabel(\"Drug Regimen\")"
   ]
  },
  {
   "cell_type": "code",
   "execution_count": 97,
   "metadata": {},
   "outputs": [
    {
     "data": {
      "text/plain": [
       "Text(0, 0.5, 'Number of Data Points')"
      ]
     },
     "execution_count": 97,
     "metadata": {},
     "output_type": "execute_result"
    },
    {
     "data": {
      "image/png": "[encoded data removed]",
      "text/plain": [
       "<Figure size 432x288 with 1 Axes>"
      ]
     },
     "metadata": {
      "needs_background": "light"
     },
     "output_type": "display_data"
    }
   ],
   "source": [
    "# Generate a bar plot showing the number of mice per time point for each \n",
    "#treatment throughout the course of the study using pyplot.\n",
    "drug = clean[\"Drug Regimen\"]\n",
    "x_axis = np.arange(len(mousenum))\n",
    "plt.bar(x_axis, mousenum, color=\"b\", align=\"center\")\n",
    "plt.xlabel(\"Drug Regimen\")\n",
    "plt.ylabel(\"Number of Data Points\")"
   ]
  },
  {
   "cell_type": "markdown",
   "metadata": {},
   "source": [
    "## Pie Plots"
   ]
  },
  {
   "cell_type": "code",
   "execution_count": 98,
   "metadata": {},
   "outputs": [
    {
     "data": {
      "text/plain": [
       "<matplotlib.axes._subplots.AxesSubplot at 0x1a1b716d68>"
      ]
     },
     "execution_count": 98,
     "metadata": {},
     "output_type": "execute_result"
    },
    {
     "data": {
      "image/png": "[encoded data removed]",
      "text/plain": [
       "<Figure size 432x288 with 1 Axes>"
      ]
     },
     "metadata": {},
     "output_type": "display_data"
    }
   ],
   "source": [
    "gender= clean[\"Sex\"]\n",
    "gender.value_counts().plot(kind='pie', autopct='%1.1f%%',)"
   ]
  },
  {
   "cell_type": "code",
   "execution_count": 99,
   "metadata": {},
   "outputs": [
    {
     "data": {
      "text/plain": [
       "([<matplotlib.patches.Wedge at 0x1a1b1849b0>,\n",
       "  <matplotlib.patches.Wedge at 0x1a1b2529e8>],\n",
       " [Text(-0.03308201408261547, 1.0995024239828841, 'Male'),\n",
       "  Text(0.033082014082615095, -1.0995024239828841, 'Female')],\n",
       " [Text(-0.01804473495415389, 0.5997285948997549, '51.0%'),\n",
       "  Text(0.018044734954153686, -0.5997285948997549, '49.0%')])"
      ]
     },
     "execution_count": 99,
     "metadata": {},
     "output_type": "execute_result"
    },
    {
     "data": {
      "image/png": "[encoded data removed]",
      "text/plain": [
       "<Figure size 432x288 with 1 Axes>"
      ]
     },
     "metadata": {},
     "output_type": "display_data"
    }
   ],
   "source": [
    "# Generate a pie plot showing the distribution of female versus male mice using pandas\n",
    "malenum = 0\n",
    "femalenum = 0\n",
    "\n",
    "for row in gender:\n",
    "    if row == 'Male':\n",
    "        malenum = malenum + 1\n",
    "    \n",
    "    if row == 'Female':\n",
    "        femalenum = femalenum+1\n",
    "\n",
    "total = malenum + femalenum\n",
    "maleper = (malenum / total)*100\n",
    "femaleper = (femalenum / total)*100\n",
    "# Labels for the sections of our pie chart\n",
    "labels = [\"Male\", \"Female\"]\n",
    "\n",
    "# The values of each section of the pie chart\n",
    "sizes = [malenum, femalenum]\n",
    "\n",
    "# The colors of each section of the pie chart\n",
    "colors = [\"blue\", \"orange\"]\n",
    "\n",
    "plt.pie(sizes, labels=labels, colors=colors,\n",
    "        autopct=\"%1.1f%%\", shadow=True, startangle=0)"
   ]
  },
  {
   "cell_type": "code",
   "execution_count": 12,
   "metadata": {},
   "outputs": [],
   "source": [
    "# Generate a pie plot showing the distribution of female versus male mice using pyplot"
   ]
  },
  {
   "cell_type": "markdown",
   "metadata": {},
   "source": [
    "## Quartiles, Outliers and Boxplots"
   ]
  },
  {
   "cell_type": "code",
   "execution_count": 100,
   "metadata": {},
   "outputs": [
    {
     "name": "stdout",
     "output_type": "stream",
     "text": [
      "Values below 42.376491720000004 could be outliers for Capomulin.\n",
      "Values above 49.37251379999999 could be outliers for Capomulin.\n",
      "Values below 42.984251445 could be outliers for Ramicane.\n",
      "Values above 48.359580925 could be outliers for Ramicane.\n",
      "Values below 36.83290494999999 could be outliers for Infubinol.\n",
      "Values above 82.74144559000001 could be outliers for Infubinol.\n",
      "Values below 46.09856957 could be outliers for Ceftamin.\n",
      "Values above 66.92333830999999 could be outliers for Ceftamin.\n"
     ]
    }
   ],
   "source": [
    "# Calculate the final tumor volume of each mouse across four of the most promising \n",
    "#treatment regimens. Calculate the IQR and quantitatively determine if there are any \n",
    "#potential outliers. \n",
    "grouped_df = clean.groupby(['Mouse ID']).max()\n",
    "\n",
    "treat = grouped_df[[\"Drug Regimen\", \"Tumor Volume (mm3)\"]]\n",
    "\n",
    "cap = treat.loc[treat[\"Drug Regimen\"] == \"Capomulin\"][\"Tumor Volume (mm3)\"]\n",
    "c_quartiles = cap.quantile([.25,.5,.75])\n",
    "c_lowerq = c_quartiles[0.25]\n",
    "c_upperq = c_quartiles[0.75]\n",
    "c_iqr = c_upperq-c_lowerq\n",
    "c_lower_bound = c_lowerq - (1.5*c_iqr)\n",
    "c_upper_bound = c_upperq + (1.5*c_iqr)\n",
    "print(f\"Values below {c_lower_bound} could be outliers for Capomulin.\")\n",
    "print(f\"Values above {c_upper_bound} could be outliers for Capomulin.\")\n",
    "\n",
    "ram = treat.loc[treat[\"Drug Regimen\"] == \"Ramicane\", :][\"Tumor Volume (mm3)\"]\n",
    "r_quartiles = ram.quantile([.25,.5,.75])\n",
    "r_lowerq = r_quartiles[0.25]\n",
    "r_upperq = r_quartiles[0.75]\n",
    "r_iqr = r_upperq-r_lowerq\n",
    "r_lower_bound = r_lowerq - (1.5*r_iqr)\n",
    "r_upper_bound = r_upperq + (1.5*r_iqr)\n",
    "print(f\"Values below {r_lower_bound} could be outliers for Ramicane.\")\n",
    "print(f\"Values above {r_upper_bound} could be outliers for Ramicane.\")\n",
    "\n",
    "inf = treat.loc[treat[\"Drug Regimen\"] == \"Infubinol\", :][\"Tumor Volume (mm3)\"]\n",
    "i_quartiles = inf.quantile([.25,.5,.75])\n",
    "i_lowerq = i_quartiles[0.25]\n",
    "i_upperq = i_quartiles[0.75]\n",
    "i_iqr = i_upperq-i_lowerq\n",
    "i_lower_bound = i_lowerq - (1.5*i_iqr)\n",
    "i_upper_bound = i_upperq + (1.5*i_iqr)\n",
    "print(f\"Values below {i_lower_bound} could be outliers for Infubinol.\")\n",
    "print(f\"Values above {i_upper_bound} could be outliers for Infubinol.\")\n",
    "\n",
    "cef = treat.loc[treat[\"Drug Regimen\"] == \"Ceftamin\", :][\"Tumor Volume (mm3)\"]\n",
    "ce_quartiles = cef.quantile([.25,.5,.75])\n",
    "ce_lowerq = ce_quartiles[0.25]\n",
    "ce_upperq = ce_quartiles[0.75]\n",
    "ce_iqr = ce_upperq-ce_lowerq\n",
    "ce_lower_bound = ce_lowerq - (1.5*c_iqr)\n",
    "ce_upper_bound = ce_upperq + (1.5*c_iqr)\n",
    "print(f\"Values below {ce_lower_bound} could be outliers for Ceftamin.\")\n",
    "print(f\"Values above {ce_upper_bound} could be outliers for Ceftamin.\")"
   ]
  },
  {
   "cell_type": "code",
   "execution_count": 102,
   "metadata": {},
   "outputs": [
    {
     "data": {
      "text/plain": [
       "[Text(0, 0, 'Capomulin'),\n",
       " Text(0, 0, 'Ramicane'),\n",
       " Text(0, 0, 'Infubinol'),\n",
       " Text(0, 0, 'Ceftamin')]"
      ]
     },
     "execution_count": 102,
     "metadata": {},
     "output_type": "execute_result"
    },
    {
     "data": {
      "image/png": "[encoded data removed]",
      "text/plain": [
       "<Figure size 432x288 with 1 Axes>"
      ]
     },
     "metadata": {
      "needs_background": "light"
     },
     "output_type": "display_data"
    }
   ],
   "source": [
    "# Generate a box plot of the final tumor volume of each mouse across four regimens of \n",
    "#interest\n",
    "Capomulin = cap\n",
    "Ramicane = ram\n",
    "Infubinol = inf\n",
    "Ceftamin = cef\n",
    "\n",
    "my_dict = {'Capomulin': Capomulin, 'Ramicane': Ramicane, 'Infubinol': Infubinol, 'Ceftamin': Ceftamin}\n",
    "\n",
    "fig, ax = plt.subplots()\n",
    "ax.boxplot(my_dict.values())\n",
    "ax.set_xticklabels(my_dict.keys())"
   ]
  },
  {
   "cell_type": "markdown",
   "metadata": {},
   "source": [
    "## Line and Scatter Plots"
   ]
  },
  {
   "cell_type": "code",
   "execution_count": 103,
   "metadata": {},
   "outputs": [
    {
     "data": {
      "text/html": [
       "<div>\n",
       "<style scoped>\n",
       "    .dataframe tbody tr th:only-of-type {\n",
       "        vertical-align: middle;\n",
       "    }\n",
       "\n",
       "    .dataframe tbody tr th {\n",
       "        vertical-align: top;\n",
       "    }\n",
       "\n",
       "    .dataframe thead th {\n",
       "        text-align: right;\n",
       "    }\n",
       "</style>\n",
       "<table border=\"1\" class=\"dataframe\">\n",
       "  <thead>\n",
       "    <tr style=\"text-align: right;\">\n",
       "      <th></th>\n",
       "      <th>Mouse ID</th>\n",
       "      <th>Drug Regimen</th>\n",
       "      <th>Sex</th>\n",
       "      <th>Age_months</th>\n",
       "      <th>Weight (g)</th>\n",
       "      <th>Timepoint</th>\n",
       "      <th>Tumor Volume (mm3)</th>\n",
       "      <th>Metastatic Sites</th>\n",
       "    </tr>\n",
       "  </thead>\n",
       "  <tbody>\n",
       "    <tr>\n",
       "      <th>371</th>\n",
       "      <td>l509</td>\n",
       "      <td>Capomulin</td>\n",
       "      <td>Male</td>\n",
       "      <td>17</td>\n",
       "      <td>21</td>\n",
       "      <td>0</td>\n",
       "      <td>45.000000</td>\n",
       "      <td>0</td>\n",
       "    </tr>\n",
       "    <tr>\n",
       "      <th>372</th>\n",
       "      <td>l509</td>\n",
       "      <td>Capomulin</td>\n",
       "      <td>Male</td>\n",
       "      <td>17</td>\n",
       "      <td>21</td>\n",
       "      <td>5</td>\n",
       "      <td>45.851193</td>\n",
       "      <td>0</td>\n",
       "    </tr>\n",
       "    <tr>\n",
       "      <th>373</th>\n",
       "      <td>l509</td>\n",
       "      <td>Capomulin</td>\n",
       "      <td>Male</td>\n",
       "      <td>17</td>\n",
       "      <td>21</td>\n",
       "      <td>10</td>\n",
       "      <td>46.759074</td>\n",
       "      <td>0</td>\n",
       "    </tr>\n",
       "    <tr>\n",
       "      <th>374</th>\n",
       "      <td>l509</td>\n",
       "      <td>Capomulin</td>\n",
       "      <td>Male</td>\n",
       "      <td>17</td>\n",
       "      <td>21</td>\n",
       "      <td>15</td>\n",
       "      <td>47.488599</td>\n",
       "      <td>1</td>\n",
       "    </tr>\n",
       "    <tr>\n",
       "      <th>375</th>\n",
       "      <td>l509</td>\n",
       "      <td>Capomulin</td>\n",
       "      <td>Male</td>\n",
       "      <td>17</td>\n",
       "      <td>21</td>\n",
       "      <td>20</td>\n",
       "      <td>48.070452</td>\n",
       "      <td>2</td>\n",
       "    </tr>\n",
       "    <tr>\n",
       "      <th>376</th>\n",
       "      <td>l509</td>\n",
       "      <td>Capomulin</td>\n",
       "      <td>Male</td>\n",
       "      <td>17</td>\n",
       "      <td>21</td>\n",
       "      <td>25</td>\n",
       "      <td>44.006257</td>\n",
       "      <td>2</td>\n",
       "    </tr>\n",
       "    <tr>\n",
       "      <th>377</th>\n",
       "      <td>l509</td>\n",
       "      <td>Capomulin</td>\n",
       "      <td>Male</td>\n",
       "      <td>17</td>\n",
       "      <td>21</td>\n",
       "      <td>30</td>\n",
       "      <td>44.708055</td>\n",
       "      <td>2</td>\n",
       "    </tr>\n",
       "    <tr>\n",
       "      <th>378</th>\n",
       "      <td>l509</td>\n",
       "      <td>Capomulin</td>\n",
       "      <td>Male</td>\n",
       "      <td>17</td>\n",
       "      <td>21</td>\n",
       "      <td>35</td>\n",
       "      <td>40.207289</td>\n",
       "      <td>2</td>\n",
       "    </tr>\n",
       "    <tr>\n",
       "      <th>379</th>\n",
       "      <td>l509</td>\n",
       "      <td>Capomulin</td>\n",
       "      <td>Male</td>\n",
       "      <td>17</td>\n",
       "      <td>21</td>\n",
       "      <td>40</td>\n",
       "      <td>40.770813</td>\n",
       "      <td>2</td>\n",
       "    </tr>\n",
       "    <tr>\n",
       "      <th>380</th>\n",
       "      <td>l509</td>\n",
       "      <td>Capomulin</td>\n",
       "      <td>Male</td>\n",
       "      <td>17</td>\n",
       "      <td>21</td>\n",
       "      <td>45</td>\n",
       "      <td>41.483008</td>\n",
       "      <td>3</td>\n",
       "    </tr>\n",
       "  </tbody>\n",
       "</table>\n",
       "</div>"
      ],
      "text/plain": [
       "    Mouse ID Drug Regimen   Sex  Age_months  Weight (g)  Timepoint  \\\n",
       "371     l509    Capomulin  Male          17          21          0   \n",
       "372     l509    Capomulin  Male          17          21          5   \n",
       "373     l509    Capomulin  Male          17          21         10   \n",
       "374     l509    Capomulin  Male          17          21         15   \n",
       "375     l509    Capomulin  Male          17          21         20   \n",
       "376     l509    Capomulin  Male          17          21         25   \n",
       "377     l509    Capomulin  Male          17          21         30   \n",
       "378     l509    Capomulin  Male          17          21         35   \n",
       "379     l509    Capomulin  Male          17          21         40   \n",
       "380     l509    Capomulin  Male          17          21         45   \n",
       "\n",
       "     Tumor Volume (mm3)  Metastatic Sites  \n",
       "371           45.000000                 0  \n",
       "372           45.851193                 0  \n",
       "373           46.759074                 0  \n",
       "374           47.488599                 1  \n",
       "375           48.070452                 2  \n",
       "376           44.006257                 2  \n",
       "377           44.708055                 2  \n",
       "378           40.207289                 2  \n",
       "379           40.770813                 2  \n",
       "380           41.483008                 3  "
      ]
     },
     "execution_count": 103,
     "metadata": {},
     "output_type": "execute_result"
    },
    {
     "data": {
      "image/png": "[encoded data removed]",
      "text/plain": [
       "<Figure size 432x288 with 1 Axes>"
      ]
     },
     "metadata": {
      "needs_background": "light"
     },
     "output_type": "display_data"
    }
   ],
   "source": [
    "# Generate a line plot of time point versus tumor volume for a mouse treated with Capomulin\n",
    "mouseline = clean.loc[clean[\"Mouse ID\"] == \"l509\", :]\n",
    "xaxis = mouseline[\"Timepoint\"]\n",
    "yaxis = mouseline[\"Tumor Volume (mm3)\"]\n",
    "plt.plot(xaxis, yaxis)\n",
    "mouseline"
   ]
  },
  {
   "cell_type": "code",
   "execution_count": 104,
   "metadata": {},
   "outputs": [
    {
     "data": {
      "image/png": "[encoded data removed]",
      "text/plain": [
       "<Figure size 432x288 with 1 Axes>"
      ]
     },
     "metadata": {
      "needs_background": "light"
     },
     "output_type": "display_data"
    }
   ],
   "source": [
    "# Generate a scatter plot of mouse weight versus average tumor volume for the \n",
    "#Capomulin regimen\n",
    "weightvol = clean.loc[clean[\"Drug Regimen\"] == \"Capomulin\", :]\n",
    "x_values = weightvol['Weight (g)']\n",
    "y_values = weightvol['Tumor Volume (mm3)']\n",
    "plt.scatter(x_values,y_values)\n",
    "plt.xlabel('Weight (g)')\n",
    "plt.ylabel('Tumor Volume (mm3)')\n",
    "plt.show()\n"
   ]
  },
  {
   "cell_type": "markdown",
   "metadata": {},
   "source": [
    "## Correlation and Regression"
   ]
  },
  {
   "cell_type": "code",
   "execution_count": 105,
   "metadata": {},
   "outputs": [
    {
     "name": "stdout",
     "output_type": "stream",
     "text": [
      "The r-squared is: 0.2763600223455911\n"
     ]
    },
    {
     "data": {
      "image/png": "[encoded data removed]",
      "text/plain": [
       "<Figure size 432x288 with 1 Axes>"
      ]
     },
     "metadata": {
      "needs_background": "light"
     },
     "output_type": "display_data"
    }
   ],
   "source": [
    "# Calculate the correlation coefficient and linear regression model \n",
    "# for mouse weight and average tumor volume for the Capomulin regimen\n",
    "x_values = weightvol['Weight (g)']\n",
    "y_values = weightvol['Tumor Volume (mm3)']\n",
    "(slope, intercept, rvalue, pvalue, stderr) = linregress(x_values, y_values)\n",
    "regress_values = x_values * slope + intercept\n",
    "line_eq = \"y = \" + str(round(slope,2)) + \"x + \" + str(round(intercept,2))\n",
    "plt.scatter(x_values,y_values)\n",
    "plt.plot(x_values,regress_values,\"r-\")\n",
    "plt.annotate(line_eq,(6,10),fontsize=10,color=\"red\")\n",
    "plt.xlabel('Weight (g)')\n",
    "plt.ylabel('Tumor Volume (mm3)')\n",
    "print(f\"The r-squared is: {rvalue**2}\")\n",
    "plt.show()"
   ]
  }
 ],
 "metadata": {
  "anaconda-cloud": {},
  "kernelspec": {
   "display_name": "Python 3",
   "language": "python",
   "name": "python3"
  },
  "language_info": {
   "codemirror_mode": {
    "name": "ipython",
    "version": 3
   },
   "file_extension": ".py",
   "mimetype": "text/x-python",
   "name": "python",
   "nbconvert_exporter": "python",
   "pygments_lexer": "ipython3",
   "version": "3.6.10"
  }
 },
 "nbformat": 4,
 "nbformat_minor": 2
}
